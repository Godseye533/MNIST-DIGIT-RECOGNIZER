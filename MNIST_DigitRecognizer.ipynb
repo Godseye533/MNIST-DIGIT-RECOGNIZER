{
  "nbformat": 4,
  "nbformat_minor": 0,
  "metadata": {
    "colab": {
      "name": "MNIST_DigitRecognizer.ipynb",
      "version": "0.3.2",
      "provenance": [],
      "collapsed_sections": [],
      "toc_visible": true
    },
    "kernelspec": {
      "name": "python3",
      "display_name": "Python 3"
    },
    "accelerator": "GPU"
  },
  "cells": [
    {
      "cell_type": "markdown",
      "metadata": {
        "id": "RISH4dkQog-4",
        "colab_type": "text"
      },
      "source": [
        "# Mounting Drive"
      ]
    },
    {
      "cell_type": "code",
      "metadata": {
        "id": "SKBWPv--cri0",
        "colab_type": "code",
        "outputId": "261d7227-0c9b-40f1-e845-e646af08ddf8",
        "colab": {
          "base_uri": "https://localhost:8080/",
          "height": 34
        }
      },
      "source": [
        "from google.colab import drive\n",
        "drive.mount('/content/drive')"
      ],
      "execution_count": 0,
      "outputs": [
        {
          "output_type": "stream",
          "text": [
            "Drive already mounted at /content/drive; to attempt to forcibly remount, call drive.mount(\"/content/drive\", force_remount=True).\n"
          ],
          "name": "stdout"
        }
      ]
    },
    {
      "cell_type": "markdown",
      "metadata": {
        "id": "vkltYIlJosiX",
        "colab_type": "text"
      },
      "source": [
        "# Data loading from keras"
      ]
    },
    {
      "cell_type": "code",
      "metadata": {
        "id": "GLrCNS0W_T4t",
        "colab_type": "code",
        "colab": {}
      },
      "source": [
        "from tensorflow.keras.datasets import mnist\n",
        "\n",
        "(x_train, y_train), (x_test, y_test) = mnist.load_data()"
      ],
      "execution_count": 0,
      "outputs": []
    },
    {
      "cell_type": "markdown",
      "metadata": {
        "id": "-EtgUxgsoy8h",
        "colab_type": "text"
      },
      "source": [
        "# Re-shaping Train and Test data"
      ]
    },
    {
      "cell_type": "code",
      "metadata": {
        "id": "ZRkyuMBHRF0V",
        "colab_type": "code",
        "colab": {}
      },
      "source": [
        "x_train = x_train.reshape(-1,28,28,1)"
      ],
      "execution_count": 0,
      "outputs": []
    },
    {
      "cell_type": "code",
      "metadata": {
        "id": "-Kv8jNrrOZKG",
        "colab_type": "code",
        "colab": {}
      },
      "source": [
        "x_test = x_test.reshape(-1,28,28,1)"
      ],
      "execution_count": 0,
      "outputs": []
    },
    {
      "cell_type": "markdown",
      "metadata": {
        "id": "jGkuGaOvo7Gw",
        "colab_type": "text"
      },
      "source": [
        "# Visualizing data"
      ]
    },
    {
      "cell_type": "code",
      "metadata": {
        "id": "O8hSWJv_R-cF",
        "colab_type": "code",
        "outputId": "c9bcbf6d-c642-431f-857c-320fee9b1441",
        "colab": {
          "base_uri": "https://localhost:8080/",
          "height": 286
        }
      },
      "source": [
        "%matplotlib inline\n",
        "import matplotlib.pyplot as plt\n",
        "plt.imshow(x_train[0][:,:,0], cmap='gray')"
      ],
      "execution_count": 0,
      "outputs": [
        {
          "output_type": "execute_result",
          "data": {
            "text/plain": [
              "<matplotlib.image.AxesImage at 0x7f4e1220b438>"
            ]
          },
          "metadata": {
            "tags": []
          },
          "execution_count": 71
        },
        {
          "output_type": "display_data",
          "data": {
            "image/png": "[encoded data removed]",
            "text/plain": [
              "<Figure size 432x288 with 1 Axes>"
            ]
          },
          "metadata": {
            "tags": []
          }
        }
      ]
    },
    {
      "cell_type": "code",
      "metadata": {
        "id": "fV0zVZfve-OA",
        "colab_type": "code",
        "outputId": "42da6d65-257c-4b2e-f0c9-76ef220f8f48",
        "colab": {
          "base_uri": "https://localhost:8080/",
          "height": 34
        }
      },
      "source": [
        "y_train[0]"
      ],
      "execution_count": 0,
      "outputs": [
        {
          "output_type": "execute_result",
          "data": {
            "text/plain": [
              "5"
            ]
          },
          "metadata": {
            "tags": []
          },
          "execution_count": 72
        }
      ]
    },
    {
      "cell_type": "markdown",
      "metadata": {
        "id": "FU276YmTpHRj",
        "colab_type": "text"
      },
      "source": [
        "# Pre-processing using Image Data Generator"
      ]
    },
    {
      "cell_type": "code",
      "metadata": {
        "id": "rw5P4QVKfRGr",
        "colab_type": "code",
        "colab": {}
      },
      "source": [
        "from tensorflow.keras.preprocessing.image import ImageDataGenerator\n",
        "train_data1 = ImageDataGenerator(rescale=1./255)\n",
        "\n",
        "test_data1 = ImageDataGenerator(rescale=1./255)\n",
        "\n"
      ],
      "execution_count": 0,
      "outputs": []
    },
    {
      "cell_type": "markdown",
      "metadata": {
        "id": "hSrAeKXVpB0W",
        "colab_type": "text"
      },
      "source": [
        "# Creating a CNN Model"
      ]
    },
    {
      "cell_type": "code",
      "metadata": {
        "id": "vflpgVa4SQ9g",
        "colab_type": "code",
        "outputId": "8468517f-1831-4e76-d41c-cbf2ecefa37c",
        "colab": {
          "base_uri": "https://localhost:8080/",
          "height": 622
        }
      },
      "source": [
        "from tensorflow.keras import layers\n",
        "from tensorflow.keras import Model\n",
        "from tensorflow.keras.optimizers import RMSprop\n",
        "\n",
        "img_input = layers.Input(shape=(28, 28, 1))\n",
        "\n",
        "x = layers.Conv2D(32, 3, activation='relu')(img_input)\n",
        "x = layers.MaxPooling2D(2)(x)\n",
        "\n",
        "x = layers.Conv2D(64, 3, activation='relu')(x)\n",
        "x = layers.MaxPooling2D(2)(x)\n",
        "\n",
        "x = layers.Convolution2D(128, 3, activation='relu')(x)\n",
        "x = layers.MaxPooling2D(2)(x)\n",
        "\n",
        "x = layers.Flatten()(x)\n",
        "\n",
        "x = layers.Dense(1024, activation='relu')(x)\n",
        "x = layers.Dense(512, activation='relu')(x)\n",
        "x = layers.Dense(256, activation='relu')(x)\n",
        "x = layers.Dense(128, activation='relu')(x)\n",
        "x = layers.Dropout(0.5)(x)\n",
        "\n",
        "output = layers.Dense( 10, activation='softmax')(x)\n",
        "\n",
        "model = Model(img_input, output)\n",
        "model.summary()\n"
      ],
      "execution_count": 0,
      "outputs": [
        {
          "output_type": "stream",
          "text": [
            "Model: \"model_2\"\n",
            "_________________________________________________________________\n",
            "Layer (type)                 Output Shape              Param #   \n",
            "=================================================================\n",
            "input_3 (InputLayer)         [(None, 28, 28, 1)]       0         \n",
            "_________________________________________________________________\n",
            "conv2d_6 (Conv2D)            (None, 26, 26, 32)        320       \n",
            "_________________________________________________________________\n",
            "max_pooling2d_6 (MaxPooling2 (None, 13, 13, 32)        0         \n",
            "_________________________________________________________________\n",
            "conv2d_7 (Conv2D)            (None, 11, 11, 64)        18496     \n",
            "_________________________________________________________________\n",
            "max_pooling2d_7 (MaxPooling2 (None, 5, 5, 64)          0         \n",
            "_________________________________________________________________\n",
            "conv2d_8 (Conv2D)            (None, 3, 3, 128)         73856     \n",
            "_________________________________________________________________\n",
            "max_pooling2d_8 (MaxPooling2 (None, 1, 1, 128)         0         \n",
            "_________________________________________________________________\n",
            "flatten_2 (Flatten)          (None, 128)               0         \n",
            "_________________________________________________________________\n",
            "dense_9 (Dense)              (None, 1024)              132096    \n",
            "_________________________________________________________________\n",
            "dense_10 (Dense)             (None, 512)               524800    \n",
            "_________________________________________________________________\n",
            "dense_11 (Dense)             (None, 256)               131328    \n",
            "_________________________________________________________________\n",
            "dense_12 (Dense)             (None, 128)               32896     \n",
            "_________________________________________________________________\n",
            "dropout_2 (Dropout)          (None, 128)               0         \n",
            "_________________________________________________________________\n",
            "dense_13 (Dense)             (None, 10)                1290      \n",
            "=================================================================\n",
            "Total params: 915,082\n",
            "Trainable params: 915,082\n",
            "Non-trainable params: 0\n",
            "_________________________________________________________________\n"
          ],
          "name": "stdout"
        }
      ]
    },
    {
      "cell_type": "markdown",
      "metadata": {
        "id": "WGsXyP2upXPC",
        "colab_type": "text"
      },
      "source": [
        "##Compling the created model"
      ]
    },
    {
      "cell_type": "code",
      "metadata": {
        "id": "DCdZ01w1CHzI",
        "colab_type": "code",
        "colab": {}
      },
      "source": [
        "from tensorflow.keras.optimizers import Adam\n",
        "from tensorflow.keras import metrics\n",
        "\n",
        "\n",
        "model.compile(loss='sparse_categorical_crossentropy',\n",
        "              optimizer=Adam(\n",
        "                  lr=0.001, \n",
        "                  epsilon=None, \n",
        "                  decay=0.01),\n",
        "              metrics=['acc'])"
      ],
      "execution_count": 0,
      "outputs": []
    },
    {
      "cell_type": "markdown",
      "metadata": {
        "id": "LRep0kyTpcrN",
        "colab_type": "text"
      },
      "source": [
        "## Checking the accuracy"
      ]
    },
    {
      "cell_type": "code",
      "metadata": {
        "id": "KEg9RUPRB90E",
        "colab_type": "code",
        "outputId": "81eefcce-214f-4a26-e80a-42cadf936b6f",
        "colab": {
          "base_uri": "https://localhost:8080/",
          "height": 1000
        }
      },
      "source": [
        "history = model.fit_generator(train_data1.flow(x_train,y_train, batch_size=400),\n",
        "                              epochs = 30, validation_data = test_data1.flow(x_test,y_test,batch_size=100),\n",
        "                              verbose = 2, steps_per_epoch=100,validation_steps=50)"
      ],
      "execution_count": 0,
      "outputs": [
        {
          "output_type": "stream",
          "text": [
            "Epoch 1/30\n",
            "100/100 - 4s - loss: 0.5769 - acc: 0.8153 - val_loss: 1.4727 - val_acc: 0.9464\n",
            "Epoch 2/30\n",
            "100/100 - 3s - loss: 0.1528 - acc: 0.9577 - val_loss: 1.3742 - val_acc: 0.9702\n",
            "Epoch 3/30\n",
            "100/100 - 3s - loss: 0.1111 - acc: 0.9689 - val_loss: 1.3772 - val_acc: 0.9746\n",
            "Epoch 4/30\n",
            "100/100 - 3s - loss: 0.0850 - acc: 0.9771 - val_loss: 1.3124 - val_acc: 0.9790\n",
            "Epoch 5/30\n",
            "100/100 - 3s - loss: 0.0784 - acc: 0.9786 - val_loss: 1.3020 - val_acc: 0.9800\n",
            "Epoch 6/30\n",
            "100/100 - 3s - loss: 0.0702 - acc: 0.9808 - val_loss: 1.2604 - val_acc: 0.9802\n",
            "Epoch 7/30\n",
            "100/100 - 3s - loss: 0.0562 - acc: 0.9848 - val_loss: 1.2268 - val_acc: 0.9806\n",
            "Epoch 8/30\n",
            "100/100 - 3s - loss: 0.0537 - acc: 0.9854 - val_loss: 1.2011 - val_acc: 0.9808\n",
            "Epoch 9/30\n",
            "100/100 - 3s - loss: 0.0538 - acc: 0.9850 - val_loss: 1.2117 - val_acc: 0.9798\n",
            "Epoch 10/30\n",
            "100/100 - 3s - loss: 0.0469 - acc: 0.9876 - val_loss: 1.1840 - val_acc: 0.9844\n",
            "Epoch 11/30\n",
            "100/100 - 3s - loss: 0.0437 - acc: 0.9883 - val_loss: 1.1713 - val_acc: 0.9820\n",
            "Epoch 12/30\n",
            "100/100 - 3s - loss: 0.0420 - acc: 0.9885 - val_loss: 1.1630 - val_acc: 0.9820\n",
            "Epoch 13/30\n",
            "100/100 - 3s - loss: 0.0382 - acc: 0.9895 - val_loss: 1.1512 - val_acc: 0.9830\n",
            "Epoch 14/30\n",
            "100/100 - 3s - loss: 0.0370 - acc: 0.9895 - val_loss: 1.1399 - val_acc: 0.9792\n",
            "Epoch 15/30\n",
            "100/100 - 3s - loss: 0.0359 - acc: 0.9900 - val_loss: 1.1270 - val_acc: 0.9816\n",
            "Epoch 16/30\n",
            "100/100 - 3s - loss: 0.0326 - acc: 0.9915 - val_loss: 1.1064 - val_acc: 0.9814\n",
            "Epoch 17/30\n",
            "100/100 - 3s - loss: 0.0307 - acc: 0.9920 - val_loss: 1.0851 - val_acc: 0.9810\n",
            "Epoch 18/30\n",
            "100/100 - 3s - loss: 0.0330 - acc: 0.9908 - val_loss: 1.1063 - val_acc: 0.9834\n",
            "Epoch 19/30\n",
            "100/100 - 3s - loss: 0.0282 - acc: 0.9920 - val_loss: 1.0924 - val_acc: 0.9816\n",
            "Epoch 20/30\n",
            "100/100 - 3s - loss: 0.0283 - acc: 0.9924 - val_loss: 1.0752 - val_acc: 0.9808\n",
            "Epoch 21/30\n",
            "100/100 - 3s - loss: 0.0266 - acc: 0.9926 - val_loss: 1.0652 - val_acc: 0.9816\n",
            "Epoch 22/30\n",
            "100/100 - 3s - loss: 0.0250 - acc: 0.9935 - val_loss: 1.0534 - val_acc: 0.9830\n",
            "Epoch 23/30\n",
            "100/100 - 3s - loss: 0.0237 - acc: 0.9934 - val_loss: 1.0435 - val_acc: 0.9810\n",
            "Epoch 24/30\n",
            "100/100 - 3s - loss: 0.0234 - acc: 0.9938 - val_loss: 1.0389 - val_acc: 0.9852\n",
            "Epoch 25/30\n",
            "100/100 - 3s - loss: 0.0235 - acc: 0.9937 - val_loss: 1.0360 - val_acc: 0.9816\n",
            "Epoch 26/30\n",
            "100/100 - 3s - loss: 0.0215 - acc: 0.9947 - val_loss: 1.0368 - val_acc: 0.9832\n",
            "Epoch 27/30\n",
            "100/100 - 3s - loss: 0.0213 - acc: 0.9943 - val_loss: 1.0164 - val_acc: 0.9814\n",
            "Epoch 28/30\n",
            "100/100 - 3s - loss: 0.0208 - acc: 0.9936 - val_loss: 1.0096 - val_acc: 0.9832\n",
            "Epoch 29/30\n",
            "100/100 - 3s - loss: 0.0208 - acc: 0.9951 - val_loss: 1.0087 - val_acc: 0.9814\n",
            "Epoch 30/30\n",
            "100/100 - 3s - loss: 0.0189 - acc: 0.9949 - val_loss: 0.9981 - val_acc: 0.9824\n"
          ],
          "name": "stdout"
        }
      ]
    },
    {
      "cell_type": "markdown",
      "metadata": {
        "id": "wWexx-vYqVtZ",
        "colab_type": "text"
      },
      "source": [
        "##Saving the trained model, along with weights"
      ]
    },
    {
      "cell_type": "code",
      "metadata": {
        "id": "S6Gz7R8mEVtR",
        "colab_type": "code",
        "colab": {}
      },
      "source": [
        "model.save(\"Digit.h5\")\n",
        "model.save_weights(\"digit_wt.h5\")"
      ],
      "execution_count": 0,
      "outputs": []
    },
    {
      "cell_type": "markdown",
      "metadata": {
        "id": "h7OJHioeq_N1",
        "colab_type": "text"
      },
      "source": [
        "# Loading the saved model"
      ]
    },
    {
      "cell_type": "code",
      "metadata": {
        "id": "x0WoSeX3by9J",
        "colab_type": "code",
        "colab": {}
      },
      "source": [
        "import tensorflow\n",
        "model_trained= tensorflow.keras.models.load_model(\"Digit.h5\")"
      ],
      "execution_count": 0,
      "outputs": []
    },
    {
      "cell_type": "code",
      "metadata": {
        "id": "S7nTbM9WYxlo",
        "colab_type": "code",
        "outputId": "9bfeb0ff-f8ce-4167-8924-45199fe7f270",
        "colab": {
          "base_uri": "https://localhost:8080/",
          "height": 622
        }
      },
      "source": [
        "model_trained.summary()"
      ],
      "execution_count": 0,
      "outputs": [
        {
          "output_type": "stream",
          "text": [
            "Model: \"model_2\"\n",
            "_________________________________________________________________\n",
            "Layer (type)                 Output Shape              Param #   \n",
            "=================================================================\n",
            "input_3 (InputLayer)         [(None, 28, 28, 1)]       0         \n",
            "_________________________________________________________________\n",
            "conv2d_6 (Conv2D)            (None, 26, 26, 32)        320       \n",
            "_________________________________________________________________\n",
            "max_pooling2d_6 (MaxPooling2 (None, 13, 13, 32)        0         \n",
            "_________________________________________________________________\n",
            "conv2d_7 (Conv2D)            (None, 11, 11, 64)        18496     \n",
            "_________________________________________________________________\n",
            "max_pooling2d_7 (MaxPooling2 (None, 5, 5, 64)          0         \n",
            "_________________________________________________________________\n",
            "conv2d_8 (Conv2D)            (None, 3, 3, 128)         73856     \n",
            "_________________________________________________________________\n",
            "max_pooling2d_8 (MaxPooling2 (None, 1, 1, 128)         0         \n",
            "_________________________________________________________________\n",
            "flatten_2 (Flatten)          (None, 128)               0         \n",
            "_________________________________________________________________\n",
            "dense_9 (Dense)              (None, 1024)              132096    \n",
            "_________________________________________________________________\n",
            "dense_10 (Dense)             (None, 512)               524800    \n",
            "_________________________________________________________________\n",
            "dense_11 (Dense)             (None, 256)               131328    \n",
            "_________________________________________________________________\n",
            "dense_12 (Dense)             (None, 128)               32896     \n",
            "_________________________________________________________________\n",
            "dropout_2 (Dropout)          (None, 128)               0         \n",
            "_________________________________________________________________\n",
            "dense_13 (Dense)             (None, 10)                1290      \n",
            "=================================================================\n",
            "Total params: 915,082\n",
            "Trainable params: 915,082\n",
            "Non-trainable params: 0\n",
            "_________________________________________________________________\n"
          ],
          "name": "stdout"
        }
      ]
    },
    {
      "cell_type": "markdown",
      "metadata": {
        "id": "8SE-ZZpErug_",
        "colab_type": "text"
      },
      "source": [
        "# Loading Kaggle dataset from drive"
      ]
    },
    {
      "cell_type": "code",
      "metadata": {
        "id": "_8CoovCWZehV",
        "colab_type": "code",
        "outputId": "62c73c99-5657-4025-acea-b25b053fe16e",
        "colab": {
          "base_uri": "https://localhost:8080/",
          "height": 34
        }
      },
      "source": [
        "from zipfile import ZipFile\n",
        "file_name = \"/content/drive/My Drive/DATASETS/digit-recognizer.zip\"\n",
        "with ZipFile(file_name,'r') as zip:\n",
        "  zip.extractall()\n",
        "  print('Done')"
      ],
      "execution_count": 0,
      "outputs": [
        {
          "output_type": "stream",
          "text": [
            "Done\n"
          ],
          "name": "stdout"
        }
      ]
    },
    {
      "cell_type": "code",
      "metadata": {
        "id": "m7l0ogMocvvZ",
        "colab_type": "code",
        "colab": {}
      },
      "source": [
        "import pandas as pd\n",
        "train_df= pd.read_csv('train.csv')\n",
        "test_df=pd.read_csv('test.csv')"
      ],
      "execution_count": 0,
      "outputs": []
    },
    {
      "cell_type": "code",
      "metadata": {
        "id": "c5jmAVXvcx0M",
        "colab_type": "code",
        "colab": {}
      },
      "source": [
        "Y_train= train_df['label']"
      ],
      "execution_count": 0,
      "outputs": []
    },
    {
      "cell_type": "code",
      "metadata": {
        "id": "QSNcW2f2c4fD",
        "colab_type": "code",
        "colab": {}
      },
      "source": [
        "X_train= train_df.drop(labels='label',axis=1)"
      ],
      "execution_count": 0,
      "outputs": []
    },
    {
      "cell_type": "markdown",
      "metadata": {
        "id": "dSBTcsLUsD7a",
        "colab_type": "text"
      },
      "source": [
        "#Reshaping train & test data"
      ]
    },
    {
      "cell_type": "code",
      "metadata": {
        "id": "NySjfqNsc9iw",
        "colab_type": "code",
        "colab": {}
      },
      "source": [
        "X_train = X_train.values.reshape(-1,28,28,1)\n",
        "test_df = test_df.values.reshape(-1,28,28,1)"
      ],
      "execution_count": 0,
      "outputs": []
    },
    {
      "cell_type": "code",
      "metadata": {
        "id": "Z9HQztQCdK36",
        "colab_type": "code",
        "outputId": "e65dba72-3c3b-4ad5-d9a5-a32a1f5b8377",
        "colab": {
          "base_uri": "https://localhost:8080/",
          "height": 1000
        }
      },
      "source": [
        "Y_train"
      ],
      "execution_count": 0,
      "outputs": [
        {
          "output_type": "execute_result",
          "data": {
            "text/plain": [
              "0        1\n",
              "1        0\n",
              "2        1\n",
              "3        4\n",
              "4        0\n",
              "5        0\n",
              "6        7\n",
              "7        3\n",
              "8        5\n",
              "9        3\n",
              "10       8\n",
              "11       9\n",
              "12       1\n",
              "13       3\n",
              "14       3\n",
              "15       1\n",
              "16       2\n",
              "17       0\n",
              "18       7\n",
              "19       5\n",
              "20       8\n",
              "21       6\n",
              "22       2\n",
              "23       0\n",
              "24       2\n",
              "25       3\n",
              "26       6\n",
              "27       9\n",
              "28       9\n",
              "29       7\n",
              "        ..\n",
              "41970    2\n",
              "41971    3\n",
              "41972    4\n",
              "41973    4\n",
              "41974    3\n",
              "41975    9\n",
              "41976    2\n",
              "41977    4\n",
              "41978    4\n",
              "41979    4\n",
              "41980    7\n",
              "41981    2\n",
              "41982    8\n",
              "41983    7\n",
              "41984    3\n",
              "41985    3\n",
              "41986    0\n",
              "41987    5\n",
              "41988    0\n",
              "41989    5\n",
              "41990    3\n",
              "41991    1\n",
              "41992    9\n",
              "41993    6\n",
              "41994    4\n",
              "41995    0\n",
              "41996    1\n",
              "41997    7\n",
              "41998    6\n",
              "41999    9\n",
              "Name: label, Length: 42000, dtype: int64"
            ]
          },
          "metadata": {
            "tags": []
          },
          "execution_count": 85
        }
      ]
    },
    {
      "cell_type": "markdown",
      "metadata": {
        "id": "F5VW-v6NsMmY",
        "colab_type": "text"
      },
      "source": [
        "# Visualzing data"
      ]
    },
    {
      "cell_type": "code",
      "metadata": {
        "id": "9rhZqg3hdXgq",
        "colab_type": "code",
        "outputId": "5c6dfe9e-1052-44ce-afd1-cd7bafaf290f",
        "colab": {
          "base_uri": "https://localhost:8080/",
          "height": 286
        }
      },
      "source": [
        "plt.imshow(X_train[0][:,:,0],cmap='gray')"
      ],
      "execution_count": 0,
      "outputs": [
        {
          "output_type": "execute_result",
          "data": {
            "text/plain": [
              "<matplotlib.image.AxesImage at 0x7f4e00709a20>"
            ]
          },
          "metadata": {
            "tags": []
          },
          "execution_count": 86
        },
        {
          "output_type": "display_data",
          "data": {
            "image/png": "[encoded data removed]",
            "text/plain": [
              "<Figure size 432x288 with 1 Axes>"
            ]
          },
          "metadata": {
            "tags": []
          }
        }
      ]
    },
    {
      "cell_type": "markdown",
      "metadata": {
        "id": "QvkICkLos_5O",
        "colab_type": "text"
      },
      "source": [
        "# Preprocessing data using Image Data Generator"
      ]
    },
    {
      "cell_type": "code",
      "metadata": {
        "id": "AZeNM7bFd1t4",
        "colab_type": "code",
        "colab": {}
      },
      "source": [
        "from tensorflow.keras.preprocessing.image import ImageDataGenerator\n",
        "train_data2 = ImageDataGenerator(rescale=1./255)\n",
        "test_data2 = ImageDataGenerator(rescale=1./255)"
      ],
      "execution_count": 0,
      "outputs": []
    },
    {
      "cell_type": "markdown",
      "metadata": {
        "id": "miH7T6N_tOoa",
        "colab_type": "text"
      },
      "source": [
        "# Checking accuracy"
      ]
    },
    {
      "cell_type": "code",
      "metadata": {
        "id": "t7J6qEz2dfQO",
        "colab_type": "code",
        "outputId": "2fd85c22-7035-488b-afd4-c96c26351f19",
        "colab": {
          "base_uri": "https://localhost:8080/",
          "height": 1000
        }
      },
      "source": [
        "history = model_trained.fit_generator(train_data2.flow(X_train,Y_train, batch_size=250),\n",
        "                              epochs = 50, validation_data = test_data1.flow(x_test,y_test,batch_size=50),\n",
        "                              verbose = 2, steps_per_epoch=100,validation_steps=50)"
      ],
      "execution_count": 0,
      "outputs": [
        {
          "output_type": "stream",
          "text": [
            "Epoch 1/50\n",
            "100/100 - 2s - loss: 0.0323 - acc: 0.9918 - val_loss: 0.0305 - val_acc: 0.9896\n",
            "Epoch 2/50\n",
            "100/100 - 2s - loss: 0.0272 - acc: 0.9928 - val_loss: 0.0291 - val_acc: 0.9904\n",
            "Epoch 3/50\n",
            "100/100 - 2s - loss: 0.0282 - acc: 0.9928 - val_loss: 0.0309 - val_acc: 0.9900\n",
            "Epoch 4/50\n",
            "100/100 - 2s - loss: 0.0270 - acc: 0.9928 - val_loss: 0.0295 - val_acc: 0.9908\n",
            "Epoch 5/50\n",
            "100/100 - 2s - loss: 0.0282 - acc: 0.9924 - val_loss: 0.0304 - val_acc: 0.9892\n",
            "Epoch 6/50\n",
            "100/100 - 2s - loss: 0.0263 - acc: 0.9934 - val_loss: 0.0287 - val_acc: 0.9904\n",
            "Epoch 7/50\n",
            "100/100 - 2s - loss: 0.0276 - acc: 0.9926 - val_loss: 0.0278 - val_acc: 0.9900\n",
            "Epoch 8/50\n",
            "100/100 - 2s - loss: 0.0251 - acc: 0.9931 - val_loss: 0.0304 - val_acc: 0.9892\n",
            "Epoch 9/50\n",
            "100/100 - 2s - loss: 0.0255 - acc: 0.9932 - val_loss: 0.0281 - val_acc: 0.9908\n",
            "Epoch 10/50\n",
            "100/100 - 2s - loss: 0.0226 - acc: 0.9940 - val_loss: 0.0287 - val_acc: 0.9912\n",
            "Epoch 11/50\n",
            "100/100 - 2s - loss: 0.0256 - acc: 0.9932 - val_loss: 0.0296 - val_acc: 0.9900\n",
            "Epoch 12/50\n",
            "100/100 - 2s - loss: 0.0252 - acc: 0.9932 - val_loss: 0.0282 - val_acc: 0.9892\n",
            "Epoch 13/50\n",
            "100/100 - 2s - loss: 0.0258 - acc: 0.9932 - val_loss: 0.0278 - val_acc: 0.9908\n",
            "Epoch 14/50\n",
            "100/100 - 2s - loss: 0.0226 - acc: 0.9940 - val_loss: 0.0268 - val_acc: 0.9896\n",
            "Epoch 15/50\n",
            "100/100 - 2s - loss: 0.0234 - acc: 0.9931 - val_loss: 0.0275 - val_acc: 0.9896\n",
            "Epoch 16/50\n",
            "100/100 - 2s - loss: 0.0237 - acc: 0.9942 - val_loss: 0.0264 - val_acc: 0.9912\n",
            "Epoch 17/50\n",
            "100/100 - 2s - loss: 0.0226 - acc: 0.9942 - val_loss: 0.0261 - val_acc: 0.9912\n",
            "Epoch 18/50\n",
            "100/100 - 2s - loss: 0.0216 - acc: 0.9938 - val_loss: 0.0266 - val_acc: 0.9900\n",
            "Epoch 19/50\n",
            "100/100 - 2s - loss: 0.0228 - acc: 0.9940 - val_loss: 0.0266 - val_acc: 0.9904\n",
            "Epoch 20/50\n",
            "100/100 - 2s - loss: 0.0222 - acc: 0.9937 - val_loss: 0.0255 - val_acc: 0.9920\n",
            "Epoch 21/50\n",
            "100/100 - 2s - loss: 0.0222 - acc: 0.9945 - val_loss: 0.0263 - val_acc: 0.9904\n",
            "Epoch 22/50\n",
            "100/100 - 2s - loss: 0.0201 - acc: 0.9945 - val_loss: 0.0258 - val_acc: 0.9920\n",
            "Epoch 23/50\n",
            "100/100 - 2s - loss: 0.0231 - acc: 0.9936 - val_loss: 0.0250 - val_acc: 0.9904\n",
            "Epoch 24/50\n",
            "100/100 - 2s - loss: 0.0194 - acc: 0.9949 - val_loss: 0.0246 - val_acc: 0.9916\n",
            "Epoch 25/50\n",
            "100/100 - 2s - loss: 0.0219 - acc: 0.9939 - val_loss: 0.0241 - val_acc: 0.9912\n",
            "Epoch 26/50\n",
            "100/100 - 2s - loss: 0.0199 - acc: 0.9949 - val_loss: 0.0244 - val_acc: 0.9920\n",
            "Epoch 27/50\n",
            "100/100 - 2s - loss: 0.0218 - acc: 0.9942 - val_loss: 0.0256 - val_acc: 0.9904\n",
            "Epoch 28/50\n",
            "100/100 - 2s - loss: 0.0194 - acc: 0.9948 - val_loss: 0.0241 - val_acc: 0.9924\n",
            "Epoch 29/50\n",
            "100/100 - 2s - loss: 0.0198 - acc: 0.9947 - val_loss: 0.0251 - val_acc: 0.9904\n",
            "Epoch 30/50\n",
            "100/100 - 2s - loss: 0.0196 - acc: 0.9948 - val_loss: 0.0237 - val_acc: 0.9920\n",
            "Epoch 31/50\n",
            "100/100 - 2s - loss: 0.0214 - acc: 0.9938 - val_loss: 0.0238 - val_acc: 0.9916\n",
            "Epoch 32/50\n",
            "100/100 - 2s - loss: 0.0187 - acc: 0.9955 - val_loss: 0.0256 - val_acc: 0.9908\n",
            "Epoch 33/50\n",
            "100/100 - 2s - loss: 0.0180 - acc: 0.9951 - val_loss: 0.0240 - val_acc: 0.9920\n",
            "Epoch 34/50\n",
            "100/100 - 2s - loss: 0.0186 - acc: 0.9952 - val_loss: 0.0248 - val_acc: 0.9904\n",
            "Epoch 35/50\n",
            "100/100 - 2s - loss: 0.0182 - acc: 0.9949 - val_loss: 0.0235 - val_acc: 0.9920\n",
            "Epoch 36/50\n",
            "100/100 - 2s - loss: 0.0180 - acc: 0.9954 - val_loss: 0.0238 - val_acc: 0.9908\n",
            "Epoch 37/50\n",
            "100/100 - 2s - loss: 0.0176 - acc: 0.9954 - val_loss: 0.0242 - val_acc: 0.9912\n",
            "Epoch 38/50\n",
            "100/100 - 2s - loss: 0.0178 - acc: 0.9954 - val_loss: 0.0249 - val_acc: 0.9912\n",
            "Epoch 39/50\n",
            "100/100 - 2s - loss: 0.0182 - acc: 0.9953 - val_loss: 0.0232 - val_acc: 0.9916\n",
            "Epoch 40/50\n",
            "100/100 - 2s - loss: 0.0178 - acc: 0.9947 - val_loss: 0.0230 - val_acc: 0.9912\n",
            "Epoch 41/50\n",
            "100/100 - 2s - loss: 0.0177 - acc: 0.9958 - val_loss: 0.0229 - val_acc: 0.9912\n",
            "Epoch 42/50\n",
            "100/100 - 2s - loss: 0.0167 - acc: 0.9955 - val_loss: 0.0225 - val_acc: 0.9916\n",
            "Epoch 43/50\n",
            "100/100 - 2s - loss: 0.0172 - acc: 0.9956 - val_loss: 0.0229 - val_acc: 0.9920\n",
            "Epoch 44/50\n",
            "100/100 - 2s - loss: 0.0169 - acc: 0.9958 - val_loss: 0.0228 - val_acc: 0.9912\n",
            "Epoch 45/50\n",
            "100/100 - 2s - loss: 0.0161 - acc: 0.9957 - val_loss: 0.0216 - val_acc: 0.9916\n",
            "Epoch 46/50\n",
            "100/100 - 2s - loss: 0.0167 - acc: 0.9953 - val_loss: 0.0225 - val_acc: 0.9908\n",
            "Epoch 47/50\n",
            "100/100 - 2s - loss: 0.0172 - acc: 0.9953 - val_loss: 0.0217 - val_acc: 0.9916\n",
            "Epoch 48/50\n",
            "100/100 - 2s - loss: 0.0144 - acc: 0.9958 - val_loss: 0.0221 - val_acc: 0.9916\n",
            "Epoch 49/50\n",
            "100/100 - 2s - loss: 0.0174 - acc: 0.9958 - val_loss: 0.0219 - val_acc: 0.9920\n",
            "Epoch 50/50\n",
            "100/100 - 2s - loss: 0.0162 - acc: 0.9956 - val_loss: 0.0222 - val_acc: 0.9916\n"
          ],
          "name": "stdout"
        }
      ]
    },
    {
      "cell_type": "markdown",
      "metadata": {
        "id": "-vWKiB6RtdkF",
        "colab_type": "text"
      },
      "source": [
        "#Plotting Train & Test Accuracy"
      ]
    },
    {
      "cell_type": "code",
      "metadata": {
        "id": "D81Db6sDhNMy",
        "colab_type": "code",
        "outputId": "4bb27c6e-1ba1-4b6b-fb0a-7c59170c675e",
        "colab": {
          "base_uri": "https://localhost:8080/",
          "height": 281
        }
      },
      "source": [
        "import sys\n",
        "from matplotlib import pyplot\n",
        "# plot loss\n",
        "pyplot.subplot(211)\n",
        "pyplot.title('Cross Entropy Loss')\n",
        "pyplot.plot(history.history['loss'], color='blue', label='train')\n",
        "pyplot.plot(history.history['val_loss'], color='orange', label='test')\n",
        "# plot accuracy\n",
        "pyplot.subplot(212)\n",
        "pyplot.title('Classification Accuracy')\n",
        "pyplot.plot(history.history['acc'], color='blue', label='train')\n",
        "pyplot.plot(history.history['val_acc'], color='orange', label='test')\n",
        "pyplot.show()"
      ],
      "execution_count": 0,
      "outputs": [
        {
          "output_type": "display_data",
          "data": {
            "image/png": "[encoded data removed]",
            "text/plain": [
              "<Figure size 432x288 with 2 Axes>"
            ]
          },
          "metadata": {
            "tags": []
          }
        }
      ]
    },
    {
      "cell_type": "markdown",
      "metadata": {
        "id": "E2dlqpRyuU3u",
        "colab_type": "text"
      },
      "source": [
        "##Saving the final model"
      ]
    },
    {
      "cell_type": "code",
      "metadata": {
        "id": "jGzlP2jNlJjv",
        "colab_type": "code",
        "colab": {}
      },
      "source": [
        "model_trained.save(\"Digit1.h5\")"
      ],
      "execution_count": 0,
      "outputs": []
    },
    {
      "cell_type": "code",
      "metadata": {
        "id": "ma0WgjJclZyb",
        "colab_type": "code",
        "outputId": "2d589d80-3073-4a67-f92c-86254c646993",
        "colab": {
          "base_uri": "https://localhost:8080/",
          "height": 622
        }
      },
      "source": [
        "model_trained1.summary()"
      ],
      "execution_count": 0,
      "outputs": [
        {
          "output_type": "stream",
          "text": [
            "Model: \"model_1\"\n",
            "_________________________________________________________________\n",
            "Layer (type)                 Output Shape              Param #   \n",
            "=================================================================\n",
            "input_2 (InputLayer)         [(None, 28, 28, 1)]       0         \n",
            "_________________________________________________________________\n",
            "conv2d_3 (Conv2D)            (None, 26, 26, 32)        320       \n",
            "_________________________________________________________________\n",
            "max_pooling2d_3 (MaxPooling2 (None, 13, 13, 32)        0         \n",
            "_________________________________________________________________\n",
            "conv2d_4 (Conv2D)            (None, 11, 11, 64)        18496     \n",
            "_________________________________________________________________\n",
            "max_pooling2d_4 (MaxPooling2 (None, 5, 5, 64)          0         \n",
            "_________________________________________________________________\n",
            "conv2d_5 (Conv2D)            (None, 3, 3, 128)         73856     \n",
            "_________________________________________________________________\n",
            "max_pooling2d_5 (MaxPooling2 (None, 1, 1, 128)         0         \n",
            "_________________________________________________________________\n",
            "flatten_1 (Flatten)          (None, 128)               0         \n",
            "_________________________________________________________________\n",
            "dense_4 (Dense)              (None, 1024)              132096    \n",
            "_________________________________________________________________\n",
            "dense_5 (Dense)              (None, 512)               524800    \n",
            "_________________________________________________________________\n",
            "dense_6 (Dense)              (None, 256)               131328    \n",
            "_________________________________________________________________\n",
            "dense_7 (Dense)              (None, 128)               32896     \n",
            "_________________________________________________________________\n",
            "dropout_1 (Dropout)          (None, 128)               0         \n",
            "_________________________________________________________________\n",
            "dense_8 (Dense)              (None, 10)                1290      \n",
            "=================================================================\n",
            "Total params: 915,082\n",
            "Trainable params: 915,082\n",
            "Non-trainable params: 0\n",
            "_________________________________________________________________\n"
          ],
          "name": "stdout"
        }
      ]
    },
    {
      "cell_type": "markdown",
      "metadata": {
        "id": "JdMvYTqquJOB",
        "colab_type": "text"
      },
      "source": [
        "# Creating File for Kaggle Submission"
      ]
    },
    {
      "cell_type": "code",
      "metadata": {
        "id": "ISFYCSJPhkcf",
        "colab_type": "code",
        "colab": {}
      },
      "source": [
        "import numpy as np\n",
        "results = model_trained.predict(test_df)\n",
        "\n",
        "results = np.argmax(results,axis = 1)\n",
        "\n",
        "results = pd.Series(results,name=\"Label\")"
      ],
      "execution_count": 0,
      "outputs": []
    },
    {
      "cell_type": "code",
      "metadata": {
        "id": "_J6RwgpIiQ1v",
        "colab_type": "code",
        "colab": {}
      },
      "source": [
        "submission = pd.concat([pd.Series(range(1,28001),name = \"ImageId\"),results],axis = 1)\n",
        "\n",
        "submission.to_csv(\"mnist_digit2.csv\",index=False)"
      ],
      "execution_count": 0,
      "outputs": []
    }
  ]
}